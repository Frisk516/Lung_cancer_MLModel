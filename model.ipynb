{
 "cells": [
  {
   "cell_type": "code",
   "execution_count": null,
   "id": "38eccf21",
   "metadata": {},
   "outputs": [],
   "source": [
    "#import data manipulation libraries\n",
    "import numpy as np\n",
    "import pandas as pd\n",
    "\n",
    "#import data visualziation libraries\n",
    "import matplotlib.pyplot as plt\n",
    "import seaborn as sns\n",
    "\n",
    "#import logging \n",
    "import logging\n",
    "logging.basicConfig(filename='model.log',\n",
    "                    level=logging.INFO,\n",
    "                    filemode='w',\n",
    "                      format='%(asctime)s:%(levelname)s:%(message)s',\n",
    "                      force=True)\n",
    "\n",
    "import warnings\n",
    "warnings.filterwarnings('ignore')\n",
    "\n"
   ]
  },
  {
   "cell_type": "code",
   "execution_count": null,
   "id": "71afaae4",
   "metadata": {},
   "outputs": [],
   "source": [
    "#data import using pandas function\n",
    "url=\"https://raw.githubusercontent.com/Frisk516/Lung_cancer_MLModel/refs/heads/main/survey%20lung%20cancer.csv\"\n",
    "df=pd.read_csv(url,sep=',')\n",
    "#shuffle the dataset\n",
    "df.sample(frac=1)"
   ]
  },
  {
   "cell_type": "code",
   "execution_count": null,
   "id": "d63b14e6",
   "metadata": {},
   "outputs": [],
   "source": [
    "logging.info(\"Data imported successfully\")"
   ]
  },
  {
   "cell_type": "code",
   "execution_count": null,
   "id": "0d6bb7b3",
   "metadata": {},
   "outputs": [],
   "source": [
    "#separating numerical and categorical data\n",
    "numerical_data=df.select_dtypes(exclude=object)\n",
    "categorial_data=df.select_dtypes(include=object)"
   ]
  },
  {
   "cell_type": "code",
   "execution_count": null,
   "id": "73deebf5",
   "metadata": {},
   "outputs": [],
   "source": [
    "# Set plot style\n",
    "sns.set(style=\"whitegrid\")\n",
    "\n",
    "# Plot boxplots and bell curves for each numerical feature\n",
    "for col in numerical_data.columns:\n",
    "    plt.figure(figsize=(14, 5))\n",
    "    \n",
    "    # Boxplot (shows outliers as points beyond whiskers)\n",
    "    plt.subplot(1, 2, 1)\n",
    "    sns.boxplot(x=df[col])\n",
    "    plt.title(f'Boxplot of {col}')\n",
    "    \n",
    "    # Bell curve: histogram + KDE (to check distribution shape)\n",
    "    plt.subplot(1, 2, 2)\n",
    "    sns.histplot(df[col], kde=True, bins=30)\n",
    "    plt.title(f'Histogram & KDE of {col}')\n",
    "    \n",
    "    plt.show()"
   ]
  },
  {
   "cell_type": "code",
   "execution_count": null,
   "id": "75f2e2c1",
   "metadata": {},
   "outputs": [],
   "source": [
    "#performing EDA\n",
    "\n",
    "from collections import OrderedDict\n",
    "stats=[]\n",
    "for i in numerical_data:\n",
    "    numerical_stats=OrderedDict({\n",
    "        'feature':i,\n",
    "        'mean':df[i].mean(),\n",
    "        'median':df[i].median(),\n",
    "        'mode':df[i].mode()[0],\n",
    "        'std':df[i].std(),\n",
    "        'min':df[i].min(),\n",
    "        'max':df[i].max(),\n",
    "        'skewness':df[i].skew(),\n",
    "        'kurtosis':df[i].kurt()\n",
    "    })\n",
    "    stats.append(numerical_stats)\n",
    "    report=pd.DataFrame(stats)\n",
    "\n",
    "\n",
    "# Outlier Identification :\n",
    "outlier_label = []\n",
    "for col in report['feature']:\n",
    "    Q1 = df[col].quantile(0.25)\n",
    "    Q3 = df[col].quantile(0.75)\n",
    "    IQR = Q3 - Q1\n",
    "    LW = Q1 - 1.5 * IQR   # LW : Lower Whisker Line\n",
    "    UW = Q3 + 1.5 * IQR   # UW : Upper Whisker Line\n",
    "    outliers = df[(df[col] < LW) | (df[col] > UW)]\n",
    "    if not outliers.empty:\n",
    "        outlier_label.append(\"Has Outliers\")\n",
    "    else:\n",
    "        outlier_label.append(\"No Outliers\")\n",
    "\n",
    "report[\"Outlier Comment\"] = outlier_label\n",
    "\n",
    "# Checking Report\n",
    "report"
   ]
  },
  {
   "cell_type": "code",
   "execution_count": null,
   "id": "7424546d",
   "metadata": {},
   "outputs": [],
   "source": [
    "#the data is non-normally distributed\n",
    "logging.info(\"The data is non-normally distributed\")\n"
   ]
  },
  {
   "cell_type": "code",
   "execution_count": null,
   "id": "b9a9d64f",
   "metadata": {},
   "outputs": [],
   "source": [
    "#check for null values\n",
    "df.isnull().sum()\n"
   ]
  },
  {
   "cell_type": "code",
   "execution_count": null,
   "id": "b722897d",
   "metadata": {},
   "outputs": [],
   "source": [
    "#encoding gender and lung cancer columns\n",
    "\n",
    "df['GENDER']=df['GENDER'].replace({'M':1,'F':2})\n",
    "df['LUNG_CANCER'] = df['LUNG_CANCER'].replace({'YES':2,'NO':1})\n"
   ]
  },
  {
   "cell_type": "code",
   "execution_count": null,
   "id": "1ed4cf14",
   "metadata": {},
   "outputs": [],
   "source": [
    "df"
   ]
  },
  {
   "cell_type": "code",
   "execution_count": null,
   "id": "c2be2516",
   "metadata": {},
   "outputs": [],
   "source": [
    "\n",
    "#target column shows imbalanced data\n",
    "df['LUNG_CANCER'].value_counts()"
   ]
  },
  {
   "cell_type": "code",
   "execution_count": null,
   "id": "039b6dd6",
   "metadata": {},
   "outputs": [],
   "source": [
    "#dividing the dataset to prevent data leakage\n",
    "X=df.drop('LUNG_CANCER',axis=1)\n",
    "y=df['LUNG_CANCER']\n",
    "\n",
    "from sklearn.model_selection import train_test_split\n",
    "X_train, X_test, y_train, y_test = train_test_split(X, y, test_size=0.3, random_state=7)\n",
    "\n",
    "#the dataset has minor outliers\n",
    "from sklearn.preprocessing import MinMaxScaler\n",
    "scaler = MinMaxScaler()\n",
    "X_train = scaler.fit_transform(X_train)\n",
    "X_test = scaler.transform(X_test)\n",
    "X_train\n",
    "\n",
    "from imblearn.over_sampling import SMOTE\n",
    "sm = SMOTE(random_state=42)\n",
    "X_train, y_train = sm.fit_resample(X_train, y_train)\n",
    "\n",
    "\n"
   ]
  },
  {
   "cell_type": "code",
   "execution_count": null,
   "id": "83a60166",
   "metadata": {},
   "outputs": [],
   "source": [
    "#after balancing,we will be using logistic regression because the target column is binary in nature\n",
    "from sklearn.linear_model import LogisticRegression\n",
    "LR=LogisticRegression()\n",
    "LR.fit(X_train,y_train)\n",
    "y_pred=LR.predict(X_test)\n",
    "from sklearn.metrics import classification_report,confusion_matrix\n",
    "print(confusion_matrix(y_test,y_pred))\n",
    "print(classification_report(y_test,y_pred))\n"
   ]
  },
  {
   "cell_type": "code",
   "execution_count": null,
   "id": "f6dcb83e",
   "metadata": {},
   "outputs": [],
   "source": []
  }
 ],
 "metadata": {
  "kernelspec": {
   "display_name": "base",
   "language": "python",
   "name": "python3"
  },
  "language_info": {
   "codemirror_mode": {
    "name": "ipython",
    "version": 3
   },
   "file_extension": ".py",
   "mimetype": "text/x-python",
   "name": "python",
   "nbconvert_exporter": "python",
   "pygments_lexer": "ipython3",
   "version": "3.12.7"
  }
 },
 "nbformat": 4,
 "nbformat_minor": 5
}
